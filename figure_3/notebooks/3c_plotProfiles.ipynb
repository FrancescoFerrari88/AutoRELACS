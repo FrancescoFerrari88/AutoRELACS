{
 "cells": [
  {
   "cell_type": "code",
   "execution_count": 1,
   "metadata": {},
   "outputs": [],
   "source": [
    "%%bash\n",
    "\n",
    "bedtools intersect -a ../input_data/Low_H3K4me3_merged.bed -b ../input_data/VeryLow_H3K4me3_merged.bed -u > ../intermediate_files/Low_VeryLow_H3K4me3_BAMPE_consensus.bed\n",
    "\n",
    "bedtools intersect -a ../input_data/Low_H3K27ac_merged.bed -b ../input_data/VeryLow_H3K27ac_merged.bed -u > ../intermediate_files/Low_VeryLow_H3K27ac_BAMPE_consensus.bed\n",
    "\n",
    "bedtools intersect -a ../input_data/Low_H3K27me3_merged.bed -b ../input_data/VeryLow_H3K27me3_merged.bed -u > ../intermediate_files/Low_VeryLow_H3K27me3_histoneHMM_consensus.bed\n"
   ]
  },
  {
   "cell_type": "code",
   "execution_count": 2,
   "metadata": {},
   "outputs": [],
   "source": [
    "%%bash\n",
    "\n",
    "module load deeptools\n",
    "\n",
    "SNAKEPIPE_OUTDIR=\"/data/manke/group/ferrari/PhD_project/reference_datasets/autoRELACS_dataset/output_snakePipes_HepG2\"\n",
    "\n",
    "computeMatrix reference-point -R ../intermediate_files/Low_VeryLow_H3K4me3_BAMPE_consensus.bed \\\n",
    "-S $SNAKEPIPE_OUTDIR/deepTools_ChIP/bamCompare/Low_*_H3K4me3.filtered.log2ratio.over_Low_*_Input.bw \\\n",
    "$SNAKEPIPE_OUTDIR/deepTools_ChIP/bamCompare/VeryLow_*_H3K4me3.filtered.log2ratio.over_VeryLow_*_Input.bw \\\n",
    "--referencePoint center \\\n",
    "--sortRegions keep \\\n",
    "-o ../intermediate_files/H3K4me3_Low-VeryLow_consensus.mat.gz \\\n",
    "-b 2000 \\\n",
    "-a 2000 \\\n",
    "--missingDataAsZero \\\n",
    "-p 25 "
   ]
  },
  {
   "cell_type": "code",
   "execution_count": 3,
   "metadata": {},
   "outputs": [],
   "source": [
    "%%bash\n",
    "\n",
    "module load deeptools\n",
    "\n",
    "plotProfile -m ../intermediate_files/H3K4me3_Low-VeryLow_consensus.mat.gz \\\n",
    "-o ../figures/H3K4me3_Low-VeryLow_consensus.pdf --plotType fill \\\n",
    "--samplesLabel low_1 low_2 low_3 low_4 verylow_1 verylow_2 verylow_3 verylow_4 \\\n",
    "--plotWidth 4 --plotHeight 5 --colors darkred darkred darkred darkred darkred darkred darkred darkred "
   ]
  },
  {
   "cell_type": "code",
   "execution_count": null,
   "metadata": {},
   "outputs": [],
   "source": []
  },
  {
   "cell_type": "code",
   "execution_count": 4,
   "metadata": {},
   "outputs": [],
   "source": [
    "%%bash\n",
    "\n",
    "module load deeptools\n",
    "\n",
    "SNAKEPIPE_OUTDIR=\"/data/manke/group/ferrari/PhD_project/reference_datasets/autoRELACS_dataset/output_snakePipes_HepG2\"\n",
    "\n",
    "computeMatrix reference-point -R ../intermediate_files/Low_VeryLow_H3K27ac_BAMPE_consensus.bed \\\n",
    "-S $SNAKEPIPE_OUTDIR/deepTools_ChIP/bamCompare/Low_*_H3K27ac.filtered.log2ratio.over_Low_*_Input.bw \\\n",
    "$SNAKEPIPE_OUTDIR/deepTools_ChIP/bamCompare/VeryLow_*_H3K27ac.filtered.log2ratio.over_VeryLow_*_Input.bw \\\n",
    "--referencePoint center \\\n",
    "--sortRegions keep \\\n",
    "-o ../intermediate_files/H3K27ac_Low-VeryLow_consensus.mat.gz \\\n",
    "-b 2000 \\\n",
    "-a 2000 \\\n",
    "--missingDataAsZero \\\n",
    "-p 25 "
   ]
  },
  {
   "cell_type": "code",
   "execution_count": 5,
   "metadata": {},
   "outputs": [],
   "source": [
    "%%bash\n",
    "\n",
    "module load deeptools\n",
    "\n",
    "plotProfile -m ../intermediate_files/H3K27ac_Low-VeryLow_consensus.mat.gz \\\n",
    "-o ../figures/H3K27ac_Low-VeryLow_consensus.pdf --plotType fill \\\n",
    "--samplesLabel low_1 low_2 low_3 low_4 verylow_1 verylow_2 verylow_3 verylow_4 \\\n",
    "--plotWidth 4 --plotHeight 5 --colors darkgreen darkgreen darkgreen darkgreen darkgreen darkgreen darkgreen darkgreen"
   ]
  },
  {
   "cell_type": "code",
   "execution_count": null,
   "metadata": {},
   "outputs": [],
   "source": []
  },
  {
   "cell_type": "code",
   "execution_count": 6,
   "metadata": {},
   "outputs": [],
   "source": [
    "%%bash\n",
    "\n",
    "module load deeptools\n",
    "\n",
    "SNAKEPIPE_OUTDIR=\"/data/manke/group/ferrari/PhD_project/reference_datasets/autoRELACS_dataset/output_snakePipes_HepG2\"\n",
    "\n",
    "computeMatrix scale-regions -R ../intermediate_files/Low_VeryLow_H3K27me3_histoneHMM_consensus.bed \\\n",
    "-S $SNAKEPIPE_OUTDIR/deepTools_ChIP/bamCompare/Low_*_H3K27me3.filtered.log2ratio.over_Low_*_Input.bw \\\n",
    "$SNAKEPIPE_OUTDIR/deepTools_ChIP/bamCompare/VeryLow_*_H3K27me3.filtered.log2ratio.over_VeryLow_*_Input.bw \\\n",
    "--sortRegions keep \\\n",
    "--regionBodyLength 2000 \\\n",
    "-o ../intermediate_files/H3K27me3_Low-VeryLow_consensus.mat.gz \\\n",
    "-b 500 \\\n",
    "-a 500 \\\n",
    "--missingDataAsZero \\\n",
    "-p 20 "
   ]
  },
  {
   "cell_type": "code",
   "execution_count": 8,
   "metadata": {},
   "outputs": [],
   "source": [
    "%%bash\n",
    "\n",
    "module load deeptools\n",
    "\n",
    "plotProfile -m ../intermediate_files/H3K27me3_Low-VeryLow_consensus.mat.gz \\\n",
    "-o ../figures/H3K27me3_Low-VeryLow_consensus.pdf --plotType fill \\\n",
    "--samplesLabel low_1 low_2 low_3 low_4 verylow_1 verylow_2 verylow_3 verylow_4 \\\n",
    "--plotWidth 4 --plotHeight 5 --yMax 0.2 --colors k k k k k k k k"
   ]
  },
  {
   "cell_type": "code",
   "execution_count": null,
   "metadata": {},
   "outputs": [],
   "source": []
  }
 ],
 "metadata": {
  "kernelspec": {
   "display_name": " Python 3.6 ipython@maximus (MPI-IE)",
   "language": "",
   "name": "rik_ssh_maximus_python36ipythonmaximusmpiie"
  },
  "language_info": {
   "codemirror_mode": {
    "name": "ipython",
    "version": 3
   },
   "file_extension": ".py",
   "mimetype": "text/x-python",
   "name": "python",
   "nbconvert_exporter": "python",
   "pygments_lexer": "ipython3",
   "version": "3.6.7"
  }
 },
 "nbformat": 4,
 "nbformat_minor": 2
}
