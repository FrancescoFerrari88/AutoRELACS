{
 "cells": [
  {
   "cell_type": "markdown",
   "metadata": {},
   "source": [
    "### COMPUTE COVERAGE IN BIN MODE AND PLOT CORRELATIOM BETWEEN SAMPLES"
   ]
  },
  {
   "cell_type": "code",
   "execution_count": null,
   "metadata": {},
   "outputs": [],
   "source": [
    "%%bash\n",
    "\n",
    "module load deeptools\n",
    "\n",
    "SNAKEPIPE_OUTDIR=\"/data/manke/group/ferrari/PhD_project/reference_datasets/autoRELACS_dataset/output_snakePipes_HepG2\"\n",
    "\n",
    "multiBamSummary bins -b $SNAKEPIPE_OUTDIR/filtered_bam/Low*H3K4me3.filtered.bam \\\n",
    "$SNAKEPIPE_OUTDIR/filtered_bam/Low_*H3K27ac.filtered.bam \\\n",
    "$SNAKEPIPE_OUTDIR/filtered_bam/Low_*H3K27me3.filtered.bam \\\n",
    "$SNAKEPIPE_OUTDIR/filtered_bam/VeryLow*H3K4me3.filtered.bam \\\n",
    "$SNAKEPIPE_OUTDIR/filtered_bam/VeryLow*H3K27ac.filtered.bam \\\n",
    "$SNAKEPIPE_OUTDIR/filtered_bam/VeryLow*H3K27me3.filtered.bam \\\n",
    "-o ../intermediate_files/hepg2_multibamsummary.mat.gz --smartLabels \\\n",
    "--blackListFileName /data/repository/organisms/GRCh38_ensembl/akundaje/blacklist.UseMe.bed \\\n",
    "-bs 10000 -p 20 -e --minMappingQuality 3"
   ]
  },
  {
   "cell_type": "code",
   "execution_count": 2,
   "metadata": {},
   "outputs": [
    {
     "name": "stderr",
     "output_type": "stream",
     "text": [
      "\n",
      "Outliers were detected in the data. They will be removed to avoid bias in the pearson correlation.\n"
     ]
    }
   ],
   "source": [
    "%%bash\n",
    "\n",
    "module load deeptools\n",
    "\n",
    "plotCorrelation -in ../intermediate_files/hepg2_multibamsummary.mat.gz --corMethod pearson \\\n",
    "--whatToPlot heatmap --skipZeros \\\n",
    "--plotFile ../figures/correlation_HepG2.pdf --removeOutliers --zMin -1 --zMax 1"
   ]
  },
  {
   "cell_type": "code",
   "execution_count": null,
   "metadata": {},
   "outputs": [],
   "source": []
  }
 ],
 "metadata": {
  "kernelspec": {
   "display_name": " Python 3.6 ipython@maximus (MPI-IE)",
   "language": "",
   "name": "rik_ssh_maximus_python36ipythonmaximusmpiie"
  },
  "language_info": {
   "codemirror_mode": {
    "name": "ipython",
    "version": 3
   },
   "file_extension": ".py",
   "mimetype": "text/x-python",
   "name": "python",
   "nbconvert_exporter": "python",
   "pygments_lexer": "ipython3",
   "version": "3.6.7"
  }
 },
 "nbformat": 4,
 "nbformat_minor": 2
}
