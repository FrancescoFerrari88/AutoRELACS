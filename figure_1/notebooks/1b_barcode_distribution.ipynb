{
 "cells": [
  {
   "cell_type": "code",
   "execution_count": 7,
   "metadata": {},
   "outputs": [
    {
     "name": "stderr",
     "output_type": "stream",
     "text": [
      "/package/anaconda3/lib/python3.6/importlib/_bootstrap.py:219: RuntimeWarning: numpy.dtype size changed, may indicate binary incompatibility. Expected 96, got 88\n",
      "  return f(*args, **kwds)\n",
      "/package/anaconda3/lib/python3.6/importlib/_bootstrap.py:219: RuntimeWarning: numpy.dtype size changed, may indicate binary incompatibility. Expected 96, got 88\n",
      "  return f(*args, **kwds)\n"
     ]
    }
   ],
   "source": [
    "import pandas as pd\n",
    "import numpy as np\n",
    "import seaborn as sns\n",
    "import matplotlib.pyplot as plt\n",
    "import os\n",
    "sns.set_style(\"white\")\n",
    "sns.set_context(\"paper\")\n",
    "%matplotlib inline"
   ]
  },
  {
   "cell_type": "markdown",
   "metadata": {},
   "source": [
    "## Barcode distribution within 2 indipendet chromatin poolings (S2 cells)"
   ]
  },
  {
   "cell_type": "code",
   "execution_count": 5,
   "metadata": {},
   "outputs": [],
   "source": [
    "%%bash\n",
    "\n",
    "merged_fastq_folder=\"/data/deepseq/sequencing_data/191111_A00931_0028_AHH7JGDRXX_lanes1_2/Project_1146_Bella_DeepSeq\"\n",
    "\n",
    "### Extracts barcodes from merged input ###\n",
    "\n",
    "for i in $merged_fastq_folder/Sample_19L005189/Input_60_BCs_rep_4_R1.fastq.gz; do zcat $i | awk '/^@/{getline;print}' | cut -c5-12 > ../intermediate_files/$(basename $i)_barcodes_R1.txt; done\n",
    "for i in $merged_fastq_folder/Sample_19L005191/Rep_Input_60_BCs_rep_4_R1.fastq.gz; do zcat $i | awk '/^@/{getline;print}' | cut -c5-12 > ../intermediate_files/$(basename $i)_barcodes_R1.txt; done\n"
   ]
  },
  {
   "cell_type": "code",
   "execution_count": null,
   "metadata": {},
   "outputs": [
    {
     "name": "stdout",
     "output_type": "stream",
     "text": [
      "Total number of barcodes: 60\n"
     ]
    }
   ],
   "source": [
    "### read in barcodes metadata ###\n",
    "\n",
    "list_barcodes = []\n",
    "mapp = {}\n",
    "with open(\"../input_data/1146_Bella_DeepSeq.txt\") as inp:\n",
    "    for line in inp:\n",
    "        bc = line.strip().split()[1]\n",
    "        sample = line.strip().split()[2]\n",
    "        if not bc in list_barcodes:\n",
    "            list_barcodes.append(bc)\n",
    "            mapp[bc] = sample\n",
    "        else:\n",
    "            pass\n",
    "print(\"Total number of barcodes: {}\".format(len(list_barcodes)))\n",
    "\n",
    "\n",
    "\n",
    "### count and plot ###\n",
    "\n",
    "ranks = []\n",
    "input_dir = \"../intermediate_files\"\n",
    "\n",
    "for filename in os.listdir(input_dir):\n",
    "    if filename.startswith(\"Input\") or filename.startswith(\"Rep\"):\n",
    "        #count_line=0\n",
    "        dixio={}\n",
    "        with open(os.path.join(input_dir,filename)) as inp:\n",
    "            for line in inp:\n",
    "                #count_line+=1\n",
    "                barcode = line.strip()\n",
    "                if not barcode in dixio:\n",
    "                    dixio[barcode] = 1\n",
    "                else:\n",
    "                    dixio[barcode]+=1\n",
    "                    \n",
    "        final_dixio={}\n",
    "        sig_barcodes = {}\n",
    "        for i in dixio:\n",
    "            final_dixio[i] = dixio[i]/count_line\n",
    "            if (dixio[i]/count_line)*100 > 0.1:\n",
    "                sig_barcodes[i] = (dixio[i]/count_line)*100\n",
    "                \n",
    "        barcodes = []\n",
    "        fraction = []\n",
    "        gc_content = []\n",
    "        for i in sig_barcodes:\n",
    "            barcodes.append(i)\n",
    "            fraction.append(sig_barcodes[i])\n",
    "            gc_content.append(float(float(i.count(\"G\")) + float(i.count(\"C\")))/float(len(i)))\n",
    "    \n",
    "        fdf = pd.DataFrame({\"barcodes\":barcodes, \"fraction\":fraction, \"gc_content\":gc_content})\n",
    "        fdf.sort_values(by=\"fraction\", ascending=False, inplace=True)\n",
    "        fdf[\"ID\"] = [\"_\".join(mapp[i].split(\"_\")[:2]) if i in mapp else i for i in fdf.barcodes]\n",
    "        ranks.append(fdf)\n",
    "\n",
    "        ### plot ###\n",
    "        \n",
    "        called_barcodes = []\n",
    "        fig,ax = plt.subplots(dpi=300,figsize=(10,2))\n",
    "        ax.bar(range(len(barcodes)), np.array(fdf.fraction))\n",
    "        ax.set_xticks(range(len(barcodes)))\n",
    "        ax.set_xticklabels(fdf.ID,rotation=45, ha=\"right\", size=7)\n",
    "        plt.ylabel(\"% of total\\ninput reads\")\n",
    "        for i in range(len(list(fdf.barcodes))):\n",
    "            if list(fdf.barcodes)[i] in list_barcodes:\n",
    "                called_barcodes.append(list(fdf.barcodes)[i])\n",
    "                #ax.get_xticklabels()[i].set_color(\"k\")\n",
    "\n",
    "        ax.spines['right'].set_visible(False)\n",
    "        ax.spines['top'].set_visible(False)\n",
    "\n",
    "        # Only show ticks on the left and bottom spines\n",
    "        ax.yaxis.set_ticks_position('left')\n",
    "        ax.xaxis.set_ticks_position('bottom')\n",
    "        \n",
    "        ax.axhline(100/60, linestyle=\"--\", linewidth=0.5, color='k')\n",
    "        \n",
    "        xx = [-2,-1]+list(range(len(barcodes)))+[len(barcodes)+1,len(barcodes)+2]\n",
    "        \n",
    "        yy = fdf.fraction.copy()\n",
    "        mmean = np.mean(yy)\n",
    "        yy = (yy - (100/60))\n",
    "\n",
    "        std = np.std(yy)\n",
    "        ax.fill_between(xx, [mmean + std]*len(xx), [mmean - std]*len(xx), \n",
    "                        color='dimgrey', alpha=0.2, zorder=3)\n",
    "        \n",
    "        \n",
    "        plt.tight_layout()\n",
    "        plt.savefig(\"../results/Barcode_integration_efficiency_{}.pdf\".format(filename.split(\".\")[0]))"
   ]
  },
  {
   "cell_type": "code",
   "execution_count": null,
   "metadata": {},
   "outputs": [],
   "source": []
  }
 ],
 "metadata": {
  "kernelspec": {
   "display_name": " Python 3.6 ipython@maximus (MPI-IE)",
   "language": "",
   "name": "rik_ssh_maximus_python36ipythonmaximusmpiie"
  },
  "language_info": {
   "codemirror_mode": {
    "name": "ipython",
    "version": 3
   },
   "file_extension": ".py",
   "mimetype": "text/x-python",
   "name": "python",
   "nbconvert_exporter": "python",
   "pygments_lexer": "ipython3",
   "version": "3.6.7"
  }
 },
 "nbformat": 4,
 "nbformat_minor": 2
}
