{
 "cells": [
  {
   "cell_type": "markdown",
   "metadata": {},
   "source": [
    "### COMPUTE MATRIX ON MERGED PEAK SET AND PLOT CLUSTERED HEATMAP "
   ]
  },
  {
   "cell_type": "markdown",
   "metadata": {},
   "source": [
    "# H3K4me3"
   ]
  },
  {
   "cell_type": "code",
   "execution_count": null,
   "metadata": {},
   "outputs": [],
   "source": [
    "%%bash\n",
    "\n",
    "module load deeptools\n",
    "\n",
    "computeMatrix reference-point -R ../intermediate_files/Merged_Peaks_H3K4me3.bed \\\n",
    "-S ../intermediate_files/Biomek_H3K4me3.filtered.RLEscaled.bw \\\n",
    "../intermediate_files/manual_H3K4me3.filtered.RLEscaled.bw \\\n",
    "--referencePoint center \\\n",
    "--sortRegions keep \\\n",
    "-o ../intermediate_files/H3K4me3_Biomek-Manual_merged.mat.gz \\\n",
    "-b 2000 \\\n",
    "-a 2000 \\\n",
    "--missingDataAsZero \\\n",
    "-p 20 "
   ]
  },
  {
   "cell_type": "code",
   "execution_count": 2,
   "metadata": {},
   "outputs": [],
   "source": [
    "%%bash\n",
    "\n",
    "module load deeptools\n",
    "plotHeatmap -m ../intermediate_files/H3K4me3_Biomek-Manual_merged.mat.gz \\\n",
    "-o ../figures/H3K4me3_Biomek-Manual_merged.pdf --colorList \"white,darkred\" \"white,coral\" \\\n",
    "--whatToShow \"heatmap and colorbar\" \\\n",
    "--kmeans 5"
   ]
  },
  {
   "cell_type": "markdown",
   "metadata": {},
   "source": [
    "# H3K27ac"
   ]
  },
  {
   "cell_type": "code",
   "execution_count": 3,
   "metadata": {},
   "outputs": [],
   "source": [
    "%%bash\n",
    "\n",
    "module load deeptools\n",
    "\n",
    "computeMatrix reference-point -R ../intermediate_files/Merged_Peaks_H3K27ac.bed \\\n",
    "-S ../intermediate_files/Biomek_H3K27ac.filtered.RLEscaled.bw \\\n",
    "../intermediate_files/manual_H3K27ac.filtered.RLEscaled.bw \\\n",
    "--referencePoint center \\\n",
    "--sortRegions keep \\\n",
    "-o ../intermediate_files/H3K27ac_Biomek-Manual_merged.mat.gz \\\n",
    "-b 2000 \\\n",
    "-a 2000 \\\n",
    "--missingDataAsZero \\\n",
    "-p 20 "
   ]
  },
  {
   "cell_type": "code",
   "execution_count": 4,
   "metadata": {},
   "outputs": [],
   "source": [
    "%%bash\n",
    "\n",
    "module load deeptools\n",
    "plotHeatmap -m ../intermediate_files/H3K27ac_Biomek-Manual_merged.mat.gz \\\n",
    "-o ../figures/H3K27ac_Biomek-Manual_merged.pdf --colorList \"white,darkgreen\" \"white,limegreen\" \\\n",
    "--whatToShow \"heatmap and colorbar\" \\\n",
    "--kmeans 5"
   ]
  },
  {
   "cell_type": "markdown",
   "metadata": {},
   "source": [
    "# H3K27me3"
   ]
  },
  {
   "cell_type": "code",
   "execution_count": 6,
   "metadata": {},
   "outputs": [],
   "source": [
    "%%bash\n",
    "\n",
    "module load deeptools\n",
    "\n",
    "computeMatrix scale-regions -R ../intermediate_files/Merged_Peaks_H3K27me3.bed \\\n",
    "-S ../intermediate_files/Biomek_H3K27me3.filtered.RLEscaled.bw \\\n",
    "../intermediate_files/manual_H3K27me3.filtered.RLEscaled.bw \\\n",
    "--sortRegions keep \\\n",
    "-o ../intermediate_files/H3K27me3_Biomek-Manual_merged.mat.gz \\\n",
    "-b 500 \\\n",
    "-a 500 \\\n",
    "--missingDataAsZero \\\n",
    "-p 20 "
   ]
  },
  {
   "cell_type": "code",
   "execution_count": 7,
   "metadata": {},
   "outputs": [],
   "source": [
    "%%bash\n",
    "\n",
    "module load deeptools\n",
    "plotHeatmap -m ../intermediate_files/H3K27me3_Biomek-Manual_merged.mat.gz \\\n",
    "-o ../figures/H3K27me3_Biomek-Manual_merged.pdf --colorList \"white,black\" \"white,dimgray\" \\\n",
    "--whatToShow \"heatmap and colorbar\" \\\n",
    "--kmeans 5"
   ]
  },
  {
   "cell_type": "code",
   "execution_count": null,
   "metadata": {},
   "outputs": [],
   "source": []
  }
 ],
 "metadata": {
  "kernelspec": {
   "display_name": " Python 3.6 ipython@maximus (MPI-IE)",
   "language": "",
   "name": "rik_ssh_maximus_python36ipythonmaximusmpiie"
  },
  "language_info": {
   "codemirror_mode": {
    "name": "ipython",
    "version": 3
   },
   "file_extension": ".py",
   "mimetype": "text/x-python",
   "name": "python",
   "nbconvert_exporter": "python",
   "pygments_lexer": "ipython3",
   "version": "3.6.7"
  }
 },
 "nbformat": 4,
 "nbformat_minor": 2
}
