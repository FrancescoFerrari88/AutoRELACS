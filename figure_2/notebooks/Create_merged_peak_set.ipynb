{
 "cells": [
  {
   "cell_type": "code",
   "execution_count": 3,
   "metadata": {},
   "outputs": [],
   "source": [
    "%%bash\n",
    "\n",
    "### CREATE MERGED PEAK SET ACROSS ALL CHIP-SEQ EXPERIMENTS\n",
    "\n",
    "SNAKEPIPE_OUTDIR=\"/data/manke/group/ferrari/PhD_project/reference_datasets/autoRELACS_dataset/output_snakePipes_Drosophila_merged\"\n",
    "\n",
    "cat $SNAKEPIPE_OUTDIR/MACS2/*BAMPE*Peak | cut -f 1,2,3| grep \"^2L\\|^2R\\|^3L\\|^3R\\|^4\\|^\\X\\b\\|^\\Y\\b\" | \\\n",
    "bedtools sort | bedtools merge | awk -v OFS=\"\\t\" '{print $0, $1\"_\"$2\"_\"$3}' > ../intermediate_files/Merged_Peaks_allMarks.bed\n",
    "\n",
    "### CREATE CONSENSUS PEAK SET FOR EACH INDIVIDUAL MARK\n",
    "\n",
    "cat $SNAKEPIPE_OUTDIR/MACS2/*H3K4me3*BAMPE*Peak | cut -f 1,2,3| grep \"^2L\\|^2R\\|^3L\\|^3R\\|^4\\|^\\X\\b\\|^\\Y\\b\" | \\\n",
    "bedtools sort | bedtools merge | awk -v OFS=\"\\t\" '{print $0, $1\"_\"$2\"_\"$3,\"0\",\".\"}' > ../intermediate_files/Merged_Peaks_H3K4me3.bed\n",
    "\n",
    "cat $SNAKEPIPE_OUTDIR/MACS2/*H3K27ac*BAMPE*Peak | cut -f 1,2,3| grep \"^2L\\|^2R\\|^3L\\|^3R\\|^4\\|^\\X\\b\\|^\\Y\\b\" | \\\n",
    "bedtools sort | bedtools merge | awk -v OFS=\"\\t\" '{print $0, $1\"_\"$2\"_\"$3,\"0\",\".\"}' > ../intermediate_files/Merged_Peaks_H3K27ac.bed\n",
    "\n",
    "cat $SNAKEPIPE_OUTDIR/MACS2/*H3K27me3*BAMPE*Peak | cut -f 1,2,3| grep \"^2L\\|^2R\\|^3L\\|^3R\\|^4\\|^\\X\\b\\|^\\Y\\b\" | \\\n",
    "bedtools sort | bedtools merge | awk -v OFS=\"\\t\" '{print $0, $1\"_\"$2\"_\"$3,\"0\",\".\"}' > ../intermediate_files/Merged_Peaks_H3K27me3.bed\n",
    "\n",
    "### CREATE MERGED PEAK SET FOR EACH INDIVIDUAL MARK and FOR EACH METHOD\n",
    "\n",
    "cat $SNAKEPIPE_OUTDIR/MACS2/Biomek*H3K4me3*BAMPE*Peak | cut -f 1,2,3| grep \"^2L\\|^2R\\|^3L\\|^3R\\|^4\\|^\\X\\b\\|^\\Y\\b\" | \\\n",
    "bedtools sort | bedtools merge | awk -v OFS=\"\\t\" '{print $0, $1\"_\"$2\"_\"$3}' > ../intermediate_files/Merged_Peaks_H3K4me3_Biomek.bed\n",
    "cat $SNAKEPIPE_OUTDIR/MACS2/manual*H3K4me3*BAMPE*Peak | cut -f 1,2,3| grep \"^2L\\|^2R\\|^3L\\|^3R\\|^4\\|^\\X\\b\\|^\\Y\\b\" | \\\n",
    "bedtools sort | bedtools merge | awk -v OFS=\"\\t\" '{print $0, $1\"_\"$2\"_\"$3}' > ../intermediate_files/Merged_Peaks_H3K4me3_manual.bed\n",
    "\n",
    "cat $SNAKEPIPE_OUTDIR/MACS2/Biomek*H3K27ac*BAMPE*Peak | cut -f 1,2,3| grep \"^2L\\|^2R\\|^3L\\|^3R\\|^4\\|^\\X\\b\\|^\\Y\\b\" | \\\n",
    "bedtools sort | bedtools merge | awk -v OFS=\"\\t\" '{print $0, $1\"_\"$2\"_\"$3}' > ../intermediate_files/Merged_Peaks_H3K27ac_Biomek.bed\n",
    "cat $SNAKEPIPE_OUTDIR/MACS2/manual*H3K27ac*BAMPE*Peak | cut -f 1,2,3| grep \"^2L\\|^2R\\|^3L\\|^3R\\|^4\\|^\\X\\b\\|^\\Y\\b\" | \\\n",
    "bedtools sort | bedtools merge | awk -v OFS=\"\\t\" '{print $0, $1\"_\"$2\"_\"$3}' > ../intermediate_files/Merged_Peaks_H3K27ac_manual.bed\n",
    "\n",
    "cat $SNAKEPIPE_OUTDIR/MACS2/Biomek*H3K27me3*BAMPE*Peak | cut -f 1,2,3| grep \"^2L\\|^2R\\|^3L\\|^3R\\|^4\\|^\\X\\b\\|^\\Y\\b\" | \\\n",
    "bedtools sort | bedtools merge | awk -v OFS=\"\\t\" '{print $0, $1\"_\"$2\"_\"$3}' > ../intermediate_files/Merged_Peaks_H3K27me3_Biomek.bed\n",
    "cat $SNAKEPIPE_OUTDIR/MACS2/manual*H3K27me3*BAMPE*Peak | cut -f 1,2,3| grep \"^2L\\|^2R\\|^3L\\|^3R\\|^4\\|^\\X\\b\\|^\\Y\\b\" | \\\n",
    "bedtools sort | bedtools merge | awk -v OFS=\"\\t\" '{print $0, $1\"_\"$2\"_\"$3}' > ../intermediate_files/Merged_Peaks_H3K27me3_manual.bed\n"
   ]
  },
  {
   "cell_type": "code",
   "execution_count": null,
   "metadata": {},
   "outputs": [],
   "source": []
  }
 ],
 "metadata": {
  "kernelspec": {
   "display_name": " Python 3.6 ipython@maximus (MPI-IE)",
   "language": "",
   "name": "rik_ssh_maximus_python36ipythonmaximusmpiie"
  },
  "language_info": {
   "codemirror_mode": {
    "name": "ipython",
    "version": 3
   },
   "file_extension": ".py",
   "mimetype": "text/x-python",
   "name": "python",
   "nbconvert_exporter": "python",
   "pygments_lexer": "ipython3",
   "version": "3.6.7"
  }
 },
 "nbformat": 4,
 "nbformat_minor": 2
}
