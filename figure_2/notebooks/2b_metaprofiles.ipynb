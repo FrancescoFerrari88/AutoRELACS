{
 "cells": [
  {
   "cell_type": "code",
   "execution_count": 3,
   "metadata": {},
   "outputs": [
    {
     "name": "stderr",
     "output_type": "stream",
     "text": [
      "/package/anaconda3/lib/python3.6/importlib/_bootstrap.py:219: RuntimeWarning: numpy.dtype size changed, may indicate binary incompatibility. Expected 96, got 88\n",
      "  return f(*args, **kwds)\n",
      "/package/anaconda3/lib/python3.6/importlib/_bootstrap.py:219: RuntimeWarning: numpy.dtype size changed, may indicate binary incompatibility. Expected 96, got 88\n",
      "  return f(*args, **kwds)\n"
     ]
    }
   ],
   "source": [
    "import pandas as pd\n",
    "import numpy as np\n",
    "import matplotlib.pyplot as plt\n",
    "import seaborn as sns\n",
    "import RELACS as rel\n",
    "import os\n",
    "sns.set_style(\"white\")\n",
    "sns.set_context(\"paper\")\n",
    "%matplotlib inline\n",
    "%load_ext rpy2.ipython"
   ]
  },
  {
   "cell_type": "markdown",
   "metadata": {},
   "source": [
    "### IDENTIFY ENRICHED REGIONS AND BACKGROUND SIGNAL USING PLOTFINGERPRINT "
   ]
  },
  {
   "cell_type": "code",
   "execution_count": 112,
   "metadata": {},
   "outputs": [
    {
     "name": "stdout",
     "output_type": "stream",
     "text": [
      "50 bins had coverage over the maximum value of 10000000 during synthetic JSD computation\n",
      "101 bins had coverage over the maximum value of 10000000 during synthetic JSD computation\n",
      "150 bins had coverage over the maximum value of 10000000 during synthetic JSD computation\n"
     ]
    }
   ],
   "source": [
    "%%bash\n",
    "\n",
    "module load deeptools\n",
    "\n",
    "SNAKEPIPE_OUTDIR=\"/data/manke/group/ferrari/PhD_project/reference_datasets/autoRELACS_dataset/output_snakePipes_Drosophila_merged\"\n",
    "\n",
    "\n",
    "plotFingerprint -b $SNAKEPIPE_OUTDIR/filtered_bam/*H3K4me3*.bam -o ../figures/fingerprint_H3K4me3.png \\\n",
    "--outRawCounts ../intermediate_files/fingerprint_H3K4me3.counts -e \\\n",
    "--outQualityMetrics ../intermediate_files/fingerprint_H3K4me3.metrics -bs 8000 -n 100000 \\\n",
    "-p 20\n",
    "\n",
    "plotFingerprint -b $SNAKEPIPE_OUTDIR/filtered_bam/*H3K27ac*.bam -o ../figures/fingerprint_H3K27ac.png \\\n",
    "--outRawCounts ../intermediate_files/fingerprint_H3K27ac.counts -e \\\n",
    "--outQualityMetrics ../intermediate_files/fingerprint_H3K27ac.metrics -bs 8000 -n 100000 \\\n",
    "-p 20\n",
    "\n",
    "plotFingerprint -b $SNAKEPIPE_OUTDIR/filtered_bam/*H3K27me3*.bam -o ../figures/fingerprint_H3K27me3.png \\\n",
    "--outRawCounts ../intermediate_files/fingerprint_H3K27me3.counts -e \\\n",
    "--outQualityMetrics ../intermediate_files/fingerprint_H3K27me3.metrics -bs 8000 -n 100000 \\\n",
    "-p 20\n"
   ]
  },
  {
   "cell_type": "code",
   "execution_count": 1,
   "metadata": {},
   "outputs": [],
   "source": [
    "def getElbows(metricsFile, sample):\n",
    "    \n",
    "    ''' This function takes as input the metrics file output from plotFingerprint\n",
    "    and a sample name, and retrieves the elbow point from that sample '''\n",
    "    \n",
    "    sample = os.path.basename(sample)\n",
    "    metrics_df = pd.read_csv(metricsFile, sep=\"\\t\", comment=\"#\",index_col=0)\n",
    "    metrics_df.index = [str(os.path.basename(str(idx))) for idx in metrics_df.index]\n",
    "    return metrics_df[\"Elbow Point\"].loc[sample]\n",
    "\n",
    "def RLE_NormFactors(counts, metricsFile):\n",
    "    \n",
    "    ''' This function that takes as input a count matrix and a plotFingerprint metrics file computed \n",
    "    for the same samples, and it returns RLE scaling factors computed on the enriched regions. \n",
    "    this normalization inverts the approach of Diaz et al 2010, and performs RLE normalization \n",
    "    on the enriched fraction of the genome '''\n",
    "    \n",
    "    sorted_dic = dict()\n",
    "    \n",
    "    c = pd.read_csv(counts, sep=\"\\t\", comment='#')\n",
    "    c.columns = [str(os.path.basename(str(idx).split(\"'\")[1])) for idx in list(c)]\n",
    "    \n",
    "    for sample in list(c):\n",
    "        sample = os.path.basename(sample)\n",
    "        elbow = getElbows(metricsFile,sample)\n",
    "        \n",
    "        sorted_dic[sample] = [c[sample].sort_values(ascending=True)]\n",
    "        \n",
    "        TotSum = sorted_dic[sample][0].sum()\n",
    "        sorted_dic[sample].append(sorted_dic[sample][0].cumsum()) \n",
    "        \n",
    "        sorted_dic[sample][1] = sorted_dic[sample][1] / TotSum\n",
    "        \n",
    "        X = np.array(range(sorted_dic[sample][0].shape[0]+1)[1:]) / sorted_dic[sample][0].shape[0]\n",
    "        plt.plot(X, sorted_dic[sample][1])\n",
    "        X_ = X > elbow\n",
    "        \n",
    "        idx = list(X_).index(True)\n",
    "        thr = sorted_dic[sample][1].values[idx]\n",
    "        plt.axvline(elbow)\n",
    "        plt.axhline(thr)\n",
    "        \n",
    "        sorted_dic[sample].append(sorted_dic[sample][1].mask(sorted_dic[sample][1] < thr).dropna().index)\n",
    "    \n",
    "    common_loci = set.union(*[set(sorted_dic[sample][2]) for sample in sorted_dic])\n",
    "    \n",
    "    c = c.loc[common_loci]\n",
    "    \n",
    "    return 1/rel.RLE(c)[0], sorted_dic, common_loci"
   ]
  },
  {
   "cell_type": "markdown",
   "metadata": {},
   "source": [
    "### COMPUTE RLE SCALING FACTORS ON THE ENRICHED FRACTION OF THE GENOME FOR EACH MARK"
   ]
  },
  {
   "cell_type": "code",
   "execution_count": 4,
   "metadata": {
    "scrolled": false
   },
   "outputs": [
    {
     "data": {
      "text/plain": [
       "Biomek_H3K4me3.filtered.bam    1.076008\n",
       "manual_H3K4me3.filtered.bam    0.929361\n",
       "dtype: float64"
      ]
     },
     "execution_count": 4,
     "metadata": {},
     "output_type": "execute_result"
    },
    {
     "data": {
      "image/png": "[encoded data removed]",
      "text/plain": [
       "<Figure size 432x288 with 1 Axes>"
      ]
     },
     "metadata": {
      "needs_background": "light"
     },
     "output_type": "display_data"
    }
   ],
   "source": [
    "sf, data, loci_norm = RLE_NormFactors(\"../intermediate_files/fingerprint_H3K4me3.counts\",\"../intermediate_files/fingerprint_H3K4me3.metrics\")\n",
    "sf"
   ]
  },
  {
   "cell_type": "code",
   "execution_count": 377,
   "metadata": {},
   "outputs": [],
   "source": [
    "# sns.distplot(np.log(data[\"Biomek_H3K4me3.filtered.bam\"][0]+1))\n",
    "# sns.distplot(np.log(data[\"manual_H3K4me3.filtered.bam\"][0]+1))\n",
    "# sns.distplot(np.log(data[\"Biomek_H3K4me3.filtered.bam\"][0].loc[loci_norm]*sf[0]))\n",
    "# sns.distplot(np.log(data[\"manual_H3K4me3.filtered.bam\"][0].loc[loci_norm]*sf[1]))\n",
    "# plt.figure()\n",
    "# sns.distplot(np.log((data[\"Biomek_H3K4me3.filtered.bam\"][0]+1)*sf[0]))\n",
    "# sns.distplot(np.log((data[\"manual_H3K4me3.filtered.bam\"][0]+1)*sf[1]))"
   ]
  },
  {
   "cell_type": "code",
   "execution_count": 5,
   "metadata": {},
   "outputs": [
    {
     "data": {
      "text/plain": [
       "Biomek_H3K27ac.filtered.bam    1.497974\n",
       "manual_H3K27ac.filtered.bam    0.667568\n",
       "dtype: float64"
      ]
     },
     "execution_count": 5,
     "metadata": {},
     "output_type": "execute_result"
    },
    {
     "data": {
      "image/png": "[encoded data removed]",
      "text/plain": [
       "<Figure size 432x288 with 1 Axes>"
      ]
     },
     "metadata": {
      "needs_background": "light"
     },
     "output_type": "display_data"
    }
   ],
   "source": [
    "sf, data, loci_norm = RLE_NormFactors(\"../intermediate_files/fingerprint_H3K27ac.counts\",\"../intermediate_files/fingerprint_H3K27ac.metrics\")\n",
    "sf"
   ]
  },
  {
   "cell_type": "code",
   "execution_count": 379,
   "metadata": {},
   "outputs": [],
   "source": [
    "# sns.distplot(np.log(data[\"Biomek_H3K27ac.filtered.bam\"][0]+1))\n",
    "# sns.distplot(np.log(data[\"manual_H3K27ac.filtered.bam\"][0]+1))\n",
    "# sns.distplot(np.log(data[\"Biomek_H3K27ac.filtered.bam\"][0].loc[loci_norm]*sf[0]))\n",
    "# sns.distplot(np.log(data[\"manual_H3K27ac.filtered.bam\"][0].loc[loci_norm]*sf[1]))\n",
    "# plt.figure()\n",
    "# sns.distplot(np.log((data[\"Biomek_H3K27ac.filtered.bam\"][0]+1)*sf[0]))\n",
    "# sns.distplot(np.log((data[\"manual_H3K27ac.filtered.bam\"][0]+1)*sf[1]))"
   ]
  },
  {
   "cell_type": "code",
   "execution_count": 380,
   "metadata": {},
   "outputs": [
    {
     "data": {
      "text/plain": [
       "Biomek_H3K27me3.filtered.bam    1.038115\n",
       "manual_H3K27me3.filtered.bam    0.963284\n",
       "dtype: float64"
      ]
     },
     "execution_count": 380,
     "metadata": {},
     "output_type": "execute_result"
    },
    {
     "data": {
      "image/png": "[encoded data removed]",
      "text/plain": [
       "<Figure size 432x288 with 1 Axes>"
      ]
     },
     "metadata": {
      "needs_background": "light"
     },
     "output_type": "display_data"
    }
   ],
   "source": [
    "sf, data, loci_norm = RLE_NormFactors(\"../intermediate_files/fingerprint_H3K27me3.counts\",\"../intermediate_files/fingerprint_H3K27me3.metrics\")\n",
    "sf"
   ]
  },
  {
   "cell_type": "code",
   "execution_count": 330,
   "metadata": {},
   "outputs": [],
   "source": [
    "# sns.distplot(np.log(data[\"Biomek_H3K27me3.filtered.bam\"][0]+1))\n",
    "# sns.distplot(np.log(data[\"manual_H3K27me3.filtered.bam\"][0]+1))\n",
    "# sns.distplot(np.log(data[\"Biomek_H3K27me3.filtered.bam\"][0].loc[loci_norm]*sf[0]))\n",
    "# sns.distplot(np.log(data[\"manual_H3K27me3.filtered.bam\"][0].loc[loci_norm]*sf[1]))\n",
    "# plt.figure()\n",
    "# sns.distplot(np.log((data[\"Biomek_H3K27me3.filtered.bam\"][0]+1)*sf[0]))\n",
    "# sns.distplot(np.log((data[\"manual_H3K27me3.filtered.bam\"][0]+1)*sf[1]))"
   ]
  },
  {
   "cell_type": "markdown",
   "metadata": {},
   "source": [
    "### CREATE RLE SCALED COVERAGE TRACKS AND PLOT METAPROFILE ON THE MERGED PEAK SET FOR EACH MARK"
   ]
  },
  {
   "cell_type": "markdown",
   "metadata": {},
   "source": [
    "# H3K4me3"
   ]
  },
  {
   "cell_type": "code",
   "execution_count": 362,
   "metadata": {},
   "outputs": [
    {
     "name": "stderr",
     "output_type": "stream",
     "text": [
      "bamFilesList: ['/data/manke/group/ferrari/PhD_project/reference_datasets/autoRELACS_dataset/output_snakePipes_Drosophila_merged/filtered_bam/Biomek_H3K4me3.filtered.bam']\n",
      "binLength: 50\n",
      "numberOfSamples: None\n",
      "blackListFileName: None\n",
      "skipZeroOverZero: False\n",
      "bed_and_bin: False\n",
      "defaultFragmentLength: 233\n",
      "numberOfProcessors: 20\n",
      "verbose: False\n",
      "region: None\n",
      "bedFile: None\n",
      "minMappingQuality: None\n",
      "ignoreDuplicates: False\n",
      "chrsToSkip: []\n",
      "stepSize: 50\n",
      "center_read: False\n",
      "samFlag_include: None\n",
      "samFlag_exclude: None\n",
      "minFragmentLength: 0\n",
      "maxFragmentLength: 0\n",
      "zerosToNans: False\n",
      "smoothLength: None\n",
      "save_data: False\n",
      "out_file_for_raw_data: None\n",
      "maxPairedFragmentLength: 932\n",
      "bamFilesList: ['/data/manke/group/ferrari/PhD_project/reference_datasets/autoRELACS_dataset/output_snakePipes_Drosophila_merged/filtered_bam/manual_H3K4me3.filtered.bam']\n",
      "binLength: 50\n",
      "numberOfSamples: None\n",
      "blackListFileName: None\n",
      "skipZeroOverZero: False\n",
      "bed_and_bin: False\n",
      "defaultFragmentLength: 235\n",
      "numberOfProcessors: 20\n",
      "verbose: False\n",
      "region: None\n",
      "bedFile: None\n",
      "minMappingQuality: None\n",
      "ignoreDuplicates: False\n",
      "chrsToSkip: []\n",
      "stepSize: 50\n",
      "center_read: False\n",
      "samFlag_include: None\n",
      "samFlag_exclude: None\n",
      "minFragmentLength: 0\n",
      "maxFragmentLength: 0\n",
      "zerosToNans: False\n",
      "smoothLength: None\n",
      "save_data: False\n",
      "out_file_for_raw_data: None\n",
      "maxPairedFragmentLength: 940\n"
     ]
    }
   ],
   "source": [
    "%%bash\n",
    "\n",
    "module load deeptools\n",
    "\n",
    "SNAKEPIPE_OUTDIR=\"/data/manke/group/ferrari/PhD_project/reference_datasets/autoRELACS_dataset/output_snakePipes_Drosophila_merged\"\n",
    "\n",
    "bamCoverage -b $SNAKEPIPE_OUTDIR/filtered_bam/Biomek_H3K4me3.filtered.bam \\\n",
    "-o ../intermediate_files/Biomek_H3K4me3.filtered.RLEscaled.bw \\\n",
    "--scaleFactor 0.01076008 -p 20 -e \n",
    "\n",
    "bamCoverage -b $SNAKEPIPE_OUTDIR/filtered_bam/manual_H3K4me3.filtered.bam \\\n",
    "-o ../intermediate_files/manual_H3K4me3.filtered.RLEscaled.bw \\\n",
    "--scaleFactor 0.00929361 -p 20 -e "
   ]
  },
  {
   "cell_type": "code",
   "execution_count": 363,
   "metadata": {},
   "outputs": [],
   "source": [
    "%%bash\n",
    "\n",
    "module load deeptools\n",
    "\n",
    "computeMatrix reference-point -R ../intermediate_files/Merged_Peaks_H3K4me3.bed \\\n",
    "-S ../intermediate_files/Biomek_H3K4me3.filtered.RLEscaled.bw \\\n",
    "../intermediate_files/manual_H3K4me3.filtered.RLEscaled.bw \\\n",
    "-o ../intermediate_files/H3K4me3_merged_plotProfile.mat.gz \\\n",
    "--referencePoint center --missingDataAsZero -p 20 -b 2000 -a 2000"
   ]
  },
  {
   "cell_type": "code",
   "execution_count": 364,
   "metadata": {},
   "outputs": [],
   "source": [
    "%%bash\n",
    "\n",
    "module load deeptools\n",
    "\n",
    "plotProfile -m ../intermediate_files/H3K4me3_merged_plotProfile.mat.gz \\\n",
    "-o ../figures/H3K4me3_merged_plotProfile.pdf --perGroup --averageType median \\\n",
    "--plotHeight 7 --plotWidth 8 --colors darkred coral"
   ]
  },
  {
   "cell_type": "markdown",
   "metadata": {},
   "source": [
    "# H3K27ac"
   ]
  },
  {
   "cell_type": "code",
   "execution_count": 365,
   "metadata": {},
   "outputs": [
    {
     "name": "stderr",
     "output_type": "stream",
     "text": [
      "bamFilesList: ['/data/manke/group/ferrari/PhD_project/reference_datasets/autoRELACS_dataset/output_snakePipes_Drosophila_merged/filtered_bam/Biomek_H3K27ac.filtered.bam']\n",
      "binLength: 50\n",
      "numberOfSamples: None\n",
      "blackListFileName: None\n",
      "skipZeroOverZero: False\n",
      "bed_and_bin: False\n",
      "defaultFragmentLength: 213\n",
      "numberOfProcessors: 20\n",
      "verbose: False\n",
      "region: None\n",
      "bedFile: None\n",
      "minMappingQuality: None\n",
      "ignoreDuplicates: False\n",
      "chrsToSkip: []\n",
      "stepSize: 50\n",
      "center_read: False\n",
      "samFlag_include: None\n",
      "samFlag_exclude: None\n",
      "minFragmentLength: 0\n",
      "maxFragmentLength: 0\n",
      "zerosToNans: False\n",
      "smoothLength: None\n",
      "save_data: False\n",
      "out_file_for_raw_data: None\n",
      "maxPairedFragmentLength: 852\n",
      "bamFilesList: ['/data/manke/group/ferrari/PhD_project/reference_datasets/autoRELACS_dataset/output_snakePipes_Drosophila_merged/filtered_bam/manual_H3K27ac.filtered.bam']\n",
      "binLength: 50\n",
      "numberOfSamples: None\n",
      "blackListFileName: None\n",
      "skipZeroOverZero: False\n",
      "bed_and_bin: False\n",
      "defaultFragmentLength: 239\n",
      "numberOfProcessors: 20\n",
      "verbose: False\n",
      "region: None\n",
      "bedFile: None\n",
      "minMappingQuality: None\n",
      "ignoreDuplicates: False\n",
      "chrsToSkip: []\n",
      "stepSize: 50\n",
      "center_read: False\n",
      "samFlag_include: None\n",
      "samFlag_exclude: None\n",
      "minFragmentLength: 0\n",
      "maxFragmentLength: 0\n",
      "zerosToNans: False\n",
      "smoothLength: None\n",
      "save_data: False\n",
      "out_file_for_raw_data: None\n",
      "maxPairedFragmentLength: 956\n"
     ]
    }
   ],
   "source": [
    "%%bash\n",
    "\n",
    "module load deeptools\n",
    "\n",
    "SNAKEPIPE_OUTDIR=\"/data/manke/group/ferrari/PhD_project/reference_datasets/autoRELACS_dataset/output_snakePipes_Drosophila_merged\"\n",
    "\n",
    "bamCoverage -b $SNAKEPIPE_OUTDIR/filtered_bam/Biomek_H3K27ac.filtered.bam \\\n",
    "-o ../intermediate_files/Biomek_H3K27ac.filtered.RLEscaled.bw \\\n",
    "--scaleFactor 0.01497974 -p 20 -e \n",
    "\n",
    "bamCoverage -b $SNAKEPIPE_OUTDIR/filtered_bam/manual_H3K27ac.filtered.bam \\\n",
    "-o ../intermediate_files/manual_H3K27ac.filtered.RLEscaled.bw \\\n",
    "--scaleFactor 0.00667568 -p 20 -e "
   ]
  },
  {
   "cell_type": "code",
   "execution_count": 366,
   "metadata": {},
   "outputs": [],
   "source": [
    "%%bash\n",
    "\n",
    "module load deeptools\n",
    "\n",
    "computeMatrix reference-point -R ../intermediate_files/Merged_Peaks_H3K27ac.bed \\\n",
    "-S ../intermediate_files/Biomek_H3K27ac.filtered.RLEscaled.bw \\\n",
    "../intermediate_files/manual_H3K27ac.filtered.RLEscaled.bw \\\n",
    "-o ../intermediate_files/H3K27ac_merged_plotProfile.mat.gz \\\n",
    "--referencePoint center --missingDataAsZero -p 20 -b 2000 -a 2000"
   ]
  },
  {
   "cell_type": "code",
   "execution_count": 367,
   "metadata": {},
   "outputs": [],
   "source": [
    "%%bash\n",
    "\n",
    "module load deeptools\n",
    "\n",
    "plotProfile -m ../intermediate_files/H3K27ac_merged_plotProfile.mat.gz \\\n",
    "-o ../figures/H3K27ac_merged_plotProfile.pdf --perGroup --averageType median \\\n",
    "--plotHeight 7 --plotWidth 8 --colors darkgreen limegreen"
   ]
  },
  {
   "cell_type": "markdown",
   "metadata": {},
   "source": [
    "# H3K27me3"
   ]
  },
  {
   "cell_type": "code",
   "execution_count": 368,
   "metadata": {},
   "outputs": [
    {
     "name": "stderr",
     "output_type": "stream",
     "text": [
      "bamFilesList: ['/data/manke/group/ferrari/PhD_project/reference_datasets/autoRELACS_dataset/output_snakePipes_Drosophila_merged/filtered_bam/Biomek_H3K27me3.filtered.bam']\n",
      "binLength: 50\n",
      "numberOfSamples: None\n",
      "blackListFileName: None\n",
      "skipZeroOverZero: False\n",
      "bed_and_bin: False\n",
      "defaultFragmentLength: 253\n",
      "numberOfProcessors: 20\n",
      "verbose: False\n",
      "region: None\n",
      "bedFile: None\n",
      "minMappingQuality: None\n",
      "ignoreDuplicates: False\n",
      "chrsToSkip: []\n",
      "stepSize: 50\n",
      "center_read: False\n",
      "samFlag_include: None\n",
      "samFlag_exclude: None\n",
      "minFragmentLength: 0\n",
      "maxFragmentLength: 0\n",
      "zerosToNans: False\n",
      "smoothLength: None\n",
      "save_data: False\n",
      "out_file_for_raw_data: None\n",
      "maxPairedFragmentLength: 1012\n",
      "bamFilesList: ['/data/manke/group/ferrari/PhD_project/reference_datasets/autoRELACS_dataset/output_snakePipes_Drosophila_merged/filtered_bam/manual_H3K27me3.filtered.bam']\n",
      "binLength: 50\n",
      "numberOfSamples: None\n",
      "blackListFileName: None\n",
      "skipZeroOverZero: False\n",
      "bed_and_bin: False\n",
      "defaultFragmentLength: 245\n",
      "numberOfProcessors: 20\n",
      "verbose: False\n",
      "region: None\n",
      "bedFile: None\n",
      "minMappingQuality: None\n",
      "ignoreDuplicates: False\n",
      "chrsToSkip: []\n",
      "stepSize: 50\n",
      "center_read: False\n",
      "samFlag_include: None\n",
      "samFlag_exclude: None\n",
      "minFragmentLength: 0\n",
      "maxFragmentLength: 0\n",
      "zerosToNans: False\n",
      "smoothLength: None\n",
      "save_data: False\n",
      "out_file_for_raw_data: None\n",
      "maxPairedFragmentLength: 980\n"
     ]
    }
   ],
   "source": [
    "%%bash\n",
    "\n",
    "module load deeptools\n",
    "\n",
    "SNAKEPIPE_OUTDIR=\"/data/manke/group/ferrari/PhD_project/reference_datasets/autoRELACS_dataset/output_snakePipes_Drosophila_merged\"\n",
    "\n",
    "bamCoverage -b $SNAKEPIPE_OUTDIR/filtered_bam/Biomek_H3K27me3.filtered.bam \\\n",
    "-o ../intermediate_files/Biomek_H3K27me3.filtered.RLEscaled.bw \\\n",
    "--scaleFactor 0.01038115 -p 20 -e \n",
    "\n",
    "bamCoverage -b $SNAKEPIPE_OUTDIR/filtered_bam/manual_H3K27me3.filtered.bam \\\n",
    "-o ../intermediate_files/manual_H3K27me3.filtered.RLEscaled.bw \\\n",
    "--scaleFactor 0.00963284 -p 20 -e "
   ]
  },
  {
   "cell_type": "code",
   "execution_count": 369,
   "metadata": {},
   "outputs": [],
   "source": [
    "%%bash\n",
    "\n",
    "module load deeptools\n",
    "\n",
    "computeMatrix scale-regions -R ../intermediate_files/Merged_Peaks_H3K27me3.bed \\\n",
    "-S ../intermediate_files/Biomek_H3K27me3.filtered.RLEscaled.bw \\\n",
    "../intermediate_files/manual_H3K27me3.filtered.RLEscaled.bw \\\n",
    "-o ../intermediate_files/H3K27me3_merged_plotProfile.mat.gz \\\n",
    "--missingDataAsZero -p 20 -b 400 -a 400"
   ]
  },
  {
   "cell_type": "code",
   "execution_count": 370,
   "metadata": {},
   "outputs": [],
   "source": [
    "%%bash\n",
    "\n",
    "module load deeptools\n",
    "\n",
    "plotProfile -m ../intermediate_files/H3K27me3_merged_plotProfile.mat.gz \\\n",
    "-o ../figures/H3K27me3_merged_plotProfile.pdf --perGroup --averageType median \\\n",
    "--plotHeight 7 --plotWidth 8 --colors black dimgray"
   ]
  },
  {
   "cell_type": "code",
   "execution_count": null,
   "metadata": {},
   "outputs": [],
   "source": []
  }
 ],
 "metadata": {
  "kernelspec": {
   "display_name": " Python 3.6 ipython@maximus (MPI-IE)",
   "language": "",
   "name": "rik_ssh_maximus_python36ipythonmaximusmpiie"
  },
  "language_info": {
   "codemirror_mode": {
    "name": "ipython",
    "version": 3
   },
   "file_extension": ".py",
   "mimetype": "text/x-python",
   "name": "python",
   "nbconvert_exporter": "python",
   "pygments_lexer": "ipython3",
   "version": "3.6.7"
  }
 },
 "nbformat": 4,
 "nbformat_minor": 2
}
