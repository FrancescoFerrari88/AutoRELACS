{
 "cells": [
  {
   "cell_type": "code",
   "execution_count": null,
   "metadata": {},
   "outputs": [],
   "source": [
    "import pandas as pd\n",
    "import numpy as np\n",
    "import matplotlib.pyplot as plt\n",
    "import seaborn as sns\n",
    "import RELACS as rel\n",
    "import deeptools.countReadsPerBin as crpb\n",
    "import glob\n",
    "import os\n",
    "sns.set_style(\"white\")\n",
    "sns.set_context(\"paper\")\n",
    "%matplotlib inline\n",
    "%load_ext rpy2.ipython"
   ]
  },
  {
   "cell_type": "markdown",
   "metadata": {},
   "source": [
    "### NORMALIZATION \n",
    "\n",
    "1. get coverage in bin mode\n",
    "2. identify highly covered bins\n",
    "3. apply RLE to get normalizing scaling factors"
   ]
  },
  {
   "cell_type": "code",
   "execution_count": null,
   "metadata": {},
   "outputs": [],
   "source": [
    "def getCoverage(BamPathsList, bs=8000, p=20, e=True, sample_names=None):\n",
    "    \n",
    "    cr = crpb.CountReadsPerBin(BamPathsList, \n",
    "                               binLength=bs,\n",
    "                               stepSize = bs,\n",
    "                               numberOfProcessors=p, \n",
    "                               extendReads=e)\n",
    "    coverage = cr.run()\n",
    "    \n",
    "    if sample_names == None:\n",
    "        sample_names = [os.path.basename(bam) for bam in BamPathsList]\n",
    "    \n",
    "    coverage_df = pd.DataFrame(coverage, columns=sample_names)\n",
    "    \n",
    "    return coverage_df\n",
    "\n",
    "\n",
    "def getRLEFactors(coverage_df, broad=False, plot=True):\n",
    "    \n",
    "    idx_dict = dict()\n",
    "    \n",
    "    for sample in list(coverage_df):\n",
    "        \n",
    "        sorted_df = coverage_df[sample].sort_values(ascending=True)\n",
    "        cumsum_df = sorted_df.cumsum()\n",
    "        prop_df = cumsum_df.divide(sorted_df.sum())\n",
    "\n",
    "        X = (np.array(range(prop_df.shape[0]+1))[1:]) / prop_df.shape[0]\n",
    "        delta = np.fabs(prop_df.subtract(X, axis=0))\n",
    "        elbow_X = delta.idxmax()\n",
    "        elbow_Y = prop_df.loc[elbow_X].max()\n",
    "        \n",
    "        if broad == False:\n",
    "            selected_idx = prop_df.loc[prop_df > elbow_Y].index\n",
    "        else:\n",
    "            selected_idx = prop_df.loc[prop_df > 0].index\n",
    "        \n",
    "        idx_dict[sample] = set(selected_idx)\n",
    "        \n",
    "        if plot == True:\n",
    "            plt.figure()\n",
    "            plt.plot(X,prop_df)\n",
    "            plt.plot(X,delta)\n",
    "            plt.axhline(elbow_Y)\n",
    "            plt.axvline(X[np.fabs(prop_df.subtract(X, axis=0)).values.argmax()])\n",
    "    \n",
    "    common_loci = set.intersection(*[idx_dict[sample] for sample in idx_dict])\n",
    "    \n",
    "    enrich_df = coverage_df.loc[common_loci]   \n",
    "\n",
    "    return 1/rel.RLE(enrich_df)[0] "
   ]
  },
  {
   "cell_type": "code",
   "execution_count": null,
   "metadata": {},
   "outputs": [],
   "source": [
    "SNAKEPIPE_OUTDIR=\"/data/manke/group/ferrari/PhD_project/reference_datasets/autoRELACS_dataset/output_snakePipes_Drosophila_merged\"\n",
    "BamPathsList_H3K4me3 = glob.glob(os.path.join(SNAKEPIPE_OUTDIR,\"filtered_bam/*H3K4me3*.bam\"))\n",
    "c_H3K4me3 = getCoverage(BamPathsList_H3K4me3)"
   ]
  },
  {
   "cell_type": "code",
   "execution_count": null,
   "metadata": {},
   "outputs": [],
   "source": [
    "getRLEFactors(c_H3K4me3)/100"
   ]
  },
  {
   "cell_type": "code",
   "execution_count": null,
   "metadata": {},
   "outputs": [],
   "source": [
    "SNAKEPIPE_OUTDIR=\"/data/manke/group/ferrari/PhD_project/reference_datasets/autoRELACS_dataset/output_snakePipes_Drosophila_merged\"\n",
    "BamPathsList_H3K27ac = glob.glob(os.path.join(SNAKEPIPE_OUTDIR,\"filtered_bam/*H3K27ac*.bam\"))\n",
    "c_H3K27ac = getCoverage(BamPathsList_H3K27ac)"
   ]
  },
  {
   "cell_type": "code",
   "execution_count": null,
   "metadata": {},
   "outputs": [],
   "source": [
    "getRLEFactors(c_H3K27ac)/100"
   ]
  },
  {
   "cell_type": "code",
   "execution_count": null,
   "metadata": {},
   "outputs": [],
   "source": [
    "SNAKEPIPE_OUTDIR=\"/data/manke/group/ferrari/PhD_project/reference_datasets/autoRELACS_dataset/output_snakePipes_Drosophila_merged\"\n",
    "BamPathsList_H3K27me3 = glob.glob(os.path.join(SNAKEPIPE_OUTDIR,\"filtered_bam/*H3K27me3*.bam\"))\n",
    "c_H3K27me3 = getCoverage(BamPathsList_H3K27me3)"
   ]
  },
  {
   "cell_type": "code",
   "execution_count": null,
   "metadata": {},
   "outputs": [],
   "source": [
    "getRLEFactors(c_H3K27me3, broad=True)/100"
   ]
  },
  {
   "cell_type": "markdown",
   "metadata": {},
   "source": [
    "### CREATE RLE SCALED COVERAGE TRACKS AND PLOT METAPROFILE ON THE MERGED PEAK SET FOR EACH MARK"
   ]
  },
  {
   "cell_type": "markdown",
   "metadata": {},
   "source": [
    "# H3K4me3"
   ]
  },
  {
   "cell_type": "code",
   "execution_count": null,
   "metadata": {},
   "outputs": [],
   "source": [
    "%%bash\n",
    "\n",
    "module load deeptools\n",
    "\n",
    "SNAKEPIPE_OUTDIR=\"/data/manke/group/ferrari/PhD_project/reference_datasets/autoRELACS_dataset/output_snakePipes_Drosophila_merged\"\n",
    "\n",
    "bamCoverage -b $SNAKEPIPE_OUTDIR/filtered_bam/Biomek_H3K4me3.filtered.bam \\\n",
    "-o ../intermediate_files/Biomek_H3K4me3.filtered.RLEscaled.bw \\\n",
    "--scaleFactor 0.010824 -p 20 -e \n",
    "\n",
    "bamCoverage -b $SNAKEPIPE_OUTDIR/filtered_bam/manual_H3K4me3.filtered.bam \\\n",
    "-o ../intermediate_files/manual_H3K4me3.filtered.RLEscaled.bw \\\n",
    "--scaleFactor 0.009239 -p 20 -e "
   ]
  },
  {
   "cell_type": "code",
   "execution_count": null,
   "metadata": {},
   "outputs": [],
   "source": [
    "%%bash\n",
    "\n",
    "module load deeptools\n",
    "\n",
    "computeMatrix reference-point -R ../intermediate_files/Merged_Peaks_H3K4me3.bed \\\n",
    "-S ../intermediate_files/Biomek_H3K4me3.filtered.RLEscaled.bw \\\n",
    "../intermediate_files/manual_H3K4me3.filtered.RLEscaled.bw \\\n",
    "-o ../intermediate_files/H3K4me3_merged_plotProfile.mat.gz \\\n",
    "--referencePoint center --missingDataAsZero -p 20 -b 2000 -a 2000"
   ]
  },
  {
   "cell_type": "code",
   "execution_count": null,
   "metadata": {},
   "outputs": [],
   "source": [
    "%%bash\n",
    "\n",
    "module load deeptools\n",
    "\n",
    "plotProfile -m ../intermediate_files/H3K4me3_merged_plotProfile.mat.gz \\\n",
    "-o ../figures/H3K4me3_merged_plotProfile.pdf --perGroup --averageType median \\\n",
    "--plotHeight 7 --plotWidth 8 --colors darkred coral"
   ]
  },
  {
   "cell_type": "markdown",
   "metadata": {},
   "source": [
    "# H3K27ac"
   ]
  },
  {
   "cell_type": "code",
   "execution_count": null,
   "metadata": {},
   "outputs": [],
   "source": [
    "%%bash\n",
    "\n",
    "module load deeptools\n",
    "\n",
    "SNAKEPIPE_OUTDIR=\"/data/manke/group/ferrari/PhD_project/reference_datasets/autoRELACS_dataset/output_snakePipes_Drosophila_merged\"\n",
    "\n",
    "bamCoverage -b $SNAKEPIPE_OUTDIR/filtered_bam/Biomek_H3K27ac.filtered.bam \\\n",
    "-o ../intermediate_files/Biomek_H3K27ac.filtered.RLEscaled.bw \\\n",
    "--scaleFactor 0.014424 -p 20 -e \n",
    "\n",
    "bamCoverage -b $SNAKEPIPE_OUTDIR/filtered_bam/manual_H3K27ac.filtered.bam \\\n",
    "-o ../intermediate_files/manual_H3K27ac.filtered.RLEscaled.bw \\\n",
    "--scaleFactor 0.006933 -p 20 -e "
   ]
  },
  {
   "cell_type": "code",
   "execution_count": null,
   "metadata": {},
   "outputs": [],
   "source": [
    "%%bash\n",
    "\n",
    "module load deeptools\n",
    "\n",
    "computeMatrix reference-point -R ../intermediate_files/Merged_Peaks_H3K27ac.bed \\\n",
    "-S ../intermediate_files/Biomek_H3K27ac.filtered.RLEscaled.bw \\\n",
    "../intermediate_files/manual_H3K27ac.filtered.RLEscaled.bw \\\n",
    "-o ../intermediate_files/H3K27ac_merged_plotProfile.mat.gz \\\n",
    "--referencePoint center --missingDataAsZero -p 20 -b 2000 -a 2000"
   ]
  },
  {
   "cell_type": "code",
   "execution_count": null,
   "metadata": {},
   "outputs": [],
   "source": [
    "%%bash\n",
    "\n",
    "module load deeptools\n",
    "\n",
    "plotProfile -m ../intermediate_files/H3K27ac_merged_plotProfile.mat.gz \\\n",
    "-o ../figures/H3K27ac_merged_plotProfile.pdf --perGroup --averageType median \\\n",
    "--plotHeight 7 --plotWidth 8 --colors darkgreen limegreen"
   ]
  },
  {
   "cell_type": "markdown",
   "metadata": {},
   "source": [
    "# H3K27me3"
   ]
  },
  {
   "cell_type": "code",
   "execution_count": null,
   "metadata": {},
   "outputs": [],
   "source": [
    "%%bash\n",
    "\n",
    "module load deeptools\n",
    "\n",
    "SNAKEPIPE_OUTDIR=\"/data/manke/group/ferrari/PhD_project/reference_datasets/autoRELACS_dataset/output_snakePipes_Drosophila_merged\"\n",
    "\n",
    "bamCoverage -b $SNAKEPIPE_OUTDIR/filtered_bam/Biomek_H3K27me3.filtered.bam \\\n",
    "-o ../intermediate_files/Biomek_H3K27me3.filtered.RLEscaled.bw \\\n",
    "--scaleFactor 0.010266 -p 20 -e \n",
    "\n",
    "bamCoverage -b $SNAKEPIPE_OUTDIR/filtered_bam/manual_H3K27me3.filtered.bam \\\n",
    "-o ../intermediate_files/manual_H3K27me3.filtered.RLEscaled.bw \\\n",
    "--scaleFactor 0.009741 -p 20 -e "
   ]
  },
  {
   "cell_type": "code",
   "execution_count": null,
   "metadata": {},
   "outputs": [],
   "source": [
    "%%bash\n",
    "\n",
    "module load deeptools\n",
    "\n",
    "computeMatrix scale-regions -R ../intermediate_files/Merged_Peaks_H3K27me3.bed \\\n",
    "-S ../intermediate_files/Biomek_H3K27me3.filtered.RLEscaled.bw \\\n",
    "../intermediate_files/manual_H3K27me3.filtered.RLEscaled.bw \\\n",
    "-o ../intermediate_files/H3K27me3_merged_plotProfile.mat.gz \\\n",
    "--missingDataAsZero -p 20 -b 400 -a 400"
   ]
  },
  {
   "cell_type": "code",
   "execution_count": null,
   "metadata": {},
   "outputs": [],
   "source": [
    "%%bash\n",
    "\n",
    "module load deeptools\n",
    "\n",
    "plotProfile -m ../intermediate_files/H3K27me3_merged_plotProfile.mat.gz \\\n",
    "-o ../figures/H3K27me3_merged_plotProfile.pdf --perGroup --averageType median \\\n",
    "--plotHeight 7 --plotWidth 8 --colors black dimgray"
   ]
  },
  {
   "cell_type": "code",
   "execution_count": null,
   "metadata": {},
   "outputs": [],
   "source": []
  }
 ],
 "metadata": {
  "kernelspec": {
   "display_name": " Python 3.6 ipython@maximus (MPI-IE)",
   "language": "",
   "name": "rik_ssh_maximus_python36ipythonmaximusmpiie"
  },
  "language_info": {
   "codemirror_mode": {
    "name": "ipython",
    "version": 3
   },
   "file_extension": ".py",
   "mimetype": "text/x-python",
   "name": "python",
   "nbconvert_exporter": "python",
   "pygments_lexer": "ipython3",
   "version": "3.6.7"
  }
 },
 "nbformat": 4,
 "nbformat_minor": 2
}
