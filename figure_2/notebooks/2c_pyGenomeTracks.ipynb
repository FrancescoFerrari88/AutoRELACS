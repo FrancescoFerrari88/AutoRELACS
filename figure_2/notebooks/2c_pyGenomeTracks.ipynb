{
 "cells": [
  {
   "cell_type": "code",
   "execution_count": 4,
   "metadata": {},
   "outputs": [
    {
     "name": "stdout",
     "output_type": "stream",
     "text": [
      "Adding bigwig file: ../intermediate_files/Biomek_H3K4me3.filtered.RLEscaled.bw\n",
      "Adding bigwig file: ../intermediate_files/manual_H3K4me3.filtered.RLEscaled.bw\n",
      "Adding bed file: ../intermediate_files/Merged_Peaks_H3K4me3.bed\n",
      "Adding bigwig file: ../intermediate_files/Biomek_H3K27ac.filtered.RLEscaled.bw\n",
      "Adding bigwig file: ../intermediate_files/manual_H3K27ac.filtered.RLEscaled.bw\n",
      "Adding bed file: ../intermediate_files/Merged_Peaks_H3K27ac.bed\n",
      "Adding bigwig file: ../intermediate_files/Biomek_H3K27me3.filtered.RLEscaled.bw\n",
      "Adding bigwig file: ../intermediate_files/manual_H3K27me3.filtered.RLEscaled.bw\n",
      "Adding bed file: ../intermediate_files/Merged_Peaks_H3K27me3.bed\n",
      "Adding bigwig file: /data/manke/group/ferrari/PhD_project/reference_datasets/autoRELACS_dataset/output_snakePipes_Drosophila_merged/bamCoverage/Biomek_Input.filtered.seq_depth_norm.bw\n",
      "Adding bigwig file: /data/manke/group/ferrari/PhD_project/reference_datasets/autoRELACS_dataset/output_snakePipes_Drosophila_merged/bamCoverage/manual_Input.filtered.seq_depth_norm.bw\n",
      "Adding bed file: ../input_data/genes_dm6flybase.sorted.bed\n"
     ]
    }
   ],
   "source": [
    "%%bash\n",
    "\n",
    "module load pyGenomeTracks\n",
    "\n",
    "### CREATE PYGENOMETRACKS FOR H3K4ME3, H3K27AC, H2K27ME3 AND INPUT ###\n",
    "\n",
    "SNAKEPIPE_OUTDIR=\"/data/manke/group/ferrari/PhD_project/reference_datasets/autoRELACS_dataset/output_snakePipes_Drosophila_merged\"\n",
    "\n",
    "make_tracks_file -f ../intermediate_files/Biomek_H3K4me3.filtered.RLEscaled.bw \\\n",
    "../intermediate_files/manual_H3K4me3.filtered.RLEscaled.bw \\\n",
    "../intermediate_files/Merged_Peaks_H3K4me3.bed \\\n",
    "../intermediate_files/Biomek_H3K27ac.filtered.RLEscaled.bw \\\n",
    "../intermediate_files/manual_H3K27ac.filtered.RLEscaled.bw \\\n",
    "../intermediate_files/Merged_Peaks_H3K27ac.bed \\\n",
    "../intermediate_files/Biomek_H3K27me3.filtered.RLEscaled.bw \\\n",
    "../intermediate_files/manual_H3K27me3.filtered.RLEscaled.bw \\\n",
    "../intermediate_files/Merged_Peaks_H3K27me3.bed \\\n",
    "$SNAKEPIPE_OUTDIR/bamCoverage/Biomek_Input.filtered.seq_depth_norm.bw \\\n",
    "$SNAKEPIPE_OUTDIR/bamCoverage/manual_Input.filtered.seq_depth_norm.bw \\\n",
    "../input_data/genes_dm6flybase.sorted.bed \\\n",
    "-o ../intermediate_files/tracks_bw_.ini"
   ]
  },
  {
   "cell_type": "code",
   "execution_count": 8,
   "metadata": {},
   "outputs": [
    {
     "name": "stderr",
     "output_type": "stream",
     "text": [
      "INFO:pygenometracks.tracksClass:time initializing track(s):\n",
      "INFO:pygenometracks.tracksClass:4.293919563293457\n",
      "DEBUG:pygenometracks.tracksClass:Figure size in cm is 40 x 28.5. Dpi is set to 400\n",
      "\n",
      "DEBUG:pygenometracks.tracksClass:plotting ../intermediate_files/Biomek_H3K4me3.filtered.RLEscaled.bw\n",
      "DEBUG:pygenometracks.tracksClass:plotting ../intermediate_files/manual_H3K4me3.filtered.RLEscaled.bw\n",
      "DEBUG:pygenometracks.tracksClass:ylim 560.0,0\n",
      "DEBUG:pygenometracks.tracksClass:plotting ../intermediate_files/Biomek_H3K27ac.filtered.RLEscaled.bw\n",
      "DEBUG:pygenometracks.tracksClass:plotting ../intermediate_files/manual_H3K27ac.filtered.RLEscaled.bw\n",
      "DEBUG:pygenometracks.tracksClass:ylim 560.0,0\n",
      "DEBUG:pygenometracks.tracksClass:plotting ../intermediate_files/Biomek_H3K27me3.filtered.RLEscaled.bw\n",
      "DEBUG:pygenometracks.tracksClass:plotting ../intermediate_files/manual_H3K27me3.filtered.RLEscaled.bw\n",
      "DEBUG:pygenometracks.tracksClass:ylim 330.0,0\n",
      "DEBUG:pygenometracks.tracksClass:plotting /data/manke/group/ferrari/PhD_project/reference_datasets/autoRELACS_dataset/output_snakePipes_Drosophila_merged/bamCoverage/Biomek_Input.filtered.seq_depth_norm.bw\n",
      "DEBUG:pygenometracks.tracksClass:plotting /data/manke/group/ferrari/PhD_project/reference_datasets/autoRELACS_dataset/output_snakePipes_Drosophila_merged/bamCoverage/manual_Input.filtered.seq_depth_norm.bw\n",
      "DEBUG:pygenometracks.tracksClass:ylim 3319.9999999999995,0\n"
     ]
    }
   ],
   "source": [
    "%%bash\n",
    "module load pyGenomeTracks\n",
    "pyGenomeTracks --tracks ../input_data/tracks_bw.ini --region chr2R:7400000-7700000 \\\n",
    "-o ../figures/tracks_bw_chr12_7400000-7700000.pdf --dpi 400"
   ]
  },
  {
   "cell_type": "code",
   "execution_count": null,
   "metadata": {},
   "outputs": [],
   "source": []
  }
 ],
 "metadata": {
  "kernelspec": {
   "display_name": " Python 3.6 ipython@maximus (MPI-IE)",
   "language": "",
   "name": "rik_ssh_maximus_python36ipythonmaximusmpiie"
  },
  "language_info": {
   "codemirror_mode": {
    "name": "ipython",
    "version": 3
   },
   "file_extension": ".py",
   "mimetype": "text/x-python",
   "name": "python",
   "nbconvert_exporter": "python",
   "pygments_lexer": "ipython3",
   "version": "3.6.7"
  }
 },
 "nbformat": 4,
 "nbformat_minor": 2
}
